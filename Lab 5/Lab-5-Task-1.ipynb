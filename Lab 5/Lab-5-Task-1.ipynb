{
 "cells": [
  {
   "cell_type": "markdown",
   "metadata": {},
   "source": [
    "### DFS with Stack & Node"
   ]
  },
  {
   "cell_type": "code",
   "execution_count": 2,
   "metadata": {},
   "outputs": [
    {
     "name": "stdout",
     "output_type": "stream",
     "text": [
      "DFS traversal order: ['A', 'B', 'D', 'E', 'C', 'F']\n"
     ]
    }
   ],
   "source": [
    "class Node:\n",
    "    def __init__(self, value):\n",
    "        self.value = value\n",
    "        self.children = []\n",
    "\n",
    "    def add_child(self, child_node):\n",
    "        self.children.append(child_node)\n",
    "\n",
    "def depth_first_search(root):\n",
    "    if not root:\n",
    "        return []\n",
    "\n",
    "    visited = set()\n",
    "    result = []\n",
    "    stack = [root]\n",
    "\n",
    "    while stack:\n",
    "        current_node = stack.pop()\n",
    "\n",
    "        if current_node not in visited:\n",
    "            visited.add(current_node)\n",
    "            result.append(current_node.value)\n",
    "\n",
    "            for child in reversed(current_node.children):\n",
    "                if child not in visited:\n",
    "                    stack.append(child)\n",
    "\n",
    "    return result\n",
    "\n",
    "root = Node('A')\n",
    "node_b = Node('B')\n",
    "node_c = Node('C')\n",
    "node_d = Node('D')\n",
    "node_e = Node('E')\n",
    "node_f = Node('F')\n",
    "\n",
    "root.add_child(node_b)\n",
    "root.add_child(node_c)\n",
    "node_b.add_child(node_d)\n",
    "node_b.add_child(node_e)\n",
    "node_c.add_child(node_f)\n",
    "\n",
    "result = depth_first_search(root)\n",
    "print(\"DFS traversal order:\", result)"
   ]
  },
  {
   "cell_type": "markdown",
   "metadata": {},
   "source": [
    "### \"Inorder, Preorder, Postorder\" and implementing in DFS"
   ]
  },
  {
   "cell_type": "code",
   "execution_count": null,
   "metadata": {},
   "outputs": [],
   "source": [
    "class TreeNode:\n",
    "    def __init__(self, value):\n",
    "        self.value = value\n",
    "        self.left = None\n",
    "        self.right = None\n",
    "\n",
    "def inorder_traversal(root):\n",
    "    result = []\n",
    "    if root:\n",
    "        result.extend(inorder_traversal(root.left))\n",
    "        result.append(root.value)\n",
    "        result.extend(inorder_traversal(root.right))\n",
    "    return result\n",
    "\n",
    "def preorder_traversal(root):\n",
    "    result = []\n",
    "    if root:\n",
    "        result.append(root.value)\n",
    "        result.extend(preorder_traversal(root.left))\n",
    "        result.extend(preorder_traversal(root.right))\n",
    "    return result\n",
    "\n",
    "def postorder_traversal(root):\n",
    "    result = []\n",
    "    if root:\n",
    "        result.extend(postorder_traversal(root.left))\n",
    "        result.extend(postorder_traversal(root.right))\n",
    "        result.append(root.value)\n",
    "    return result\n",
    "\n",
    "root = TreeNode(1)\n",
    "root.left = TreeNode(2)\n",
    "root.right = TreeNode(3)\n",
    "root.left.left = TreeNode(4)\n",
    "root.left.right = TreeNode(5)\n",
    "\n",
    "print(\"Inorder traversal:\", inorder_traversal(root))\n",
    "print(\"Preorder traversal:\", preorder_traversal(root))\n",
    "print(\"Postorder traversal:\", postorder_traversal(root))"
   ]
  }
 ],
 "metadata": {
  "kernelspec": {
   "display_name": "Project_env",
   "language": "python",
   "name": "python3"
  },
  "language_info": {
   "codemirror_mode": {
    "name": "ipython",
    "version": 3
   },
   "file_extension": ".py",
   "mimetype": "text/x-python",
   "name": "python",
   "nbconvert_exporter": "python",
   "pygments_lexer": "ipython3",
   "version": "3.12.3"
  }
 },
 "nbformat": 4,
 "nbformat_minor": 2
}
