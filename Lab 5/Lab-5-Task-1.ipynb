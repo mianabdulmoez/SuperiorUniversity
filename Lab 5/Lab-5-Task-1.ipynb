{
 "cells": [
  {
   "cell_type": "markdown",
   "metadata": {},
   "source": [
    "### DFS with Stack & Node"
   ]
  },
  {
   "cell_type": "code",
   "execution_count": 2,
   "metadata": {},
   "outputs": [
    {
     "name": "stdout",
     "output_type": "stream",
     "text": [
      "DFS traversal order: ['A', 'B', 'D', 'E', 'C', 'F']\n"
     ]
    }
   ],
   "source": [
    "class Node:\n",
    "    def __init__(self, value):\n",
    "        self.value = value\n",
    "        self.children = []\n",
    "\n",
    "    def add_child(self, child_node):\n",
    "        self.children.append(child_node)\n",
    "\n",
    "def dfs(root):\n",
    "    if not root:\n",
    "        return []\n",
    "\n",
    "    visited = set()\n",
    "    result = []\n",
    "    stack = [root]\n",
    "\n",
    "    while stack:\n",
    "        current_node = stack.pop()\n",
    "\n",
    "        if current_node not in visited:\n",
    "            visited.add(current_node)\n",
    "            result.append(current_node.value)\n",
    "\n",
    "            for child in reversed(current_node.children):\n",
    "                if child not in visited:\n",
    "                    stack.append(child)\n",
    "\n",
    "    return result\n",
    "\n",
    "root = Node('A')\n",
    "node_b = Node('B')\n",
    "node_c = Node('C')\n",
    "node_d = Node('D')\n",
    "node_e = Node('E')\n",
    "node_f = Node('F')\n",
    "\n",
    "root.add_child(node_b)\n",
    "root.add_child(node_c)\n",
    "node_b.add_child(node_d)\n",
    "node_b.add_child(node_e)\n",
    "node_c.add_child(node_f)\n",
    "\n",
    "result = dfs(root)\n",
    "print(\"DFS traversal order:\", result)"
   ]
  }
 ],
 "metadata": {
  "kernelspec": {
   "display_name": "Project_env",
   "language": "python",
   "name": "python3"
  },
  "language_info": {
   "codemirror_mode": {
    "name": "ipython",
    "version": 3
   },
   "file_extension": ".py",
   "mimetype": "text/x-python",
   "name": "python",
   "nbconvert_exporter": "python",
   "pygments_lexer": "ipython3",
   "version": "3.12.3"
  }
 },
 "nbformat": 4,
 "nbformat_minor": 2
}
