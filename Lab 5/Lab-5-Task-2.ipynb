{
 "cells": [
  {
   "cell_type": "markdown",
   "metadata": {},
   "source": [
    "### \"Inorder, Preorder, Postorder\" and implementing in DFS"
   ]
  },
  {
   "cell_type": "code",
   "execution_count": 1,
   "metadata": {},
   "outputs": [
    {
     "name": "stdout",
     "output_type": "stream",
     "text": [
      "Inorder traversal: [4, 2, 5, 1, 3]\n",
      "Preorder traversal: [1, 2, 4, 5, 3]\n",
      "Postorder traversal: [4, 5, 2, 3, 1]\n"
     ]
    }
   ],
   "source": [
    "class TreeNode:\n",
    "    def __init__(self, value):\n",
    "        self.value = value\n",
    "        self.left = None\n",
    "        self.right = None\n",
    "\n",
    "def inorder(root):\n",
    "    result = []\n",
    "    if root:\n",
    "        result.extend(inorder(root.left))\n",
    "        result.append(root.value)\n",
    "        result.extend(inorder(root.right))\n",
    "    return result\n",
    "\n",
    "def preorder(root):\n",
    "    result = []\n",
    "    if root:\n",
    "        result.append(root.value)\n",
    "        result.extend(preorder(root.left))\n",
    "        result.extend(preorder(root.right))\n",
    "    return result\n",
    "\n",
    "def postorder(root):\n",
    "    result = []\n",
    "    if root:\n",
    "        result.extend(postorder(root.left))\n",
    "        result.extend(postorder(root.right))\n",
    "        result.append(root.value)\n",
    "    return result\n",
    "\n",
    "root = TreeNode(1)\n",
    "root.left = TreeNode(2)\n",
    "root.right = TreeNode(3)\n",
    "root.left.left = TreeNode(4)\n",
    "root.left.right = TreeNode(5)\n",
    "\n",
    "# root = TreeNode('A')\n",
    "# root.left = TreeNode('B')\n",
    "# root.right = TreeNode('C')\n",
    "# root.left.left = TreeNode('D')\n",
    "# root.left.right = TreeNode('E')\n",
    "\n",
    "print(\"Inorder traversal:\", inorder(root))\n",
    "print(\"Preorder traversal:\", preorder(root))\n",
    "print(\"Postorder traversal:\", postorder(root))"
   ]
  }
 ],
 "metadata": {
  "kernelspec": {
   "display_name": "Project_env",
   "language": "python",
   "name": "python3"
  },
  "language_info": {
   "codemirror_mode": {
    "name": "ipython",
    "version": 3
   },
   "file_extension": ".py",
   "mimetype": "text/x-python",
   "name": "python",
   "nbconvert_exporter": "python",
   "pygments_lexer": "ipython3",
   "version": "3.12.3"
  }
 },
 "nbformat": 4,
 "nbformat_minor": 2
}
