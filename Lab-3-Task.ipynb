{
 "cells": [
  {
   "cell_type": "code",
   "execution_count": 7,
   "metadata": {},
   "outputs": [
    {
     "name": "stdout",
     "output_type": "stream",
     "text": [
      "Living Room: Current temperature is 18°C => Turn on the heater.\n",
      "Bedroom: Current temperature is 22°C => Heater is already off.\n",
      "Kitchen: Current temperature is 20°C => Turn on the heater.\n",
      "Bathroom: Current temperature is 24°C => Heater is already off.\n"
     ]
    }
   ],
   "source": [
    "class ModelBasedReflexAgent:\n",
    "    def __init__(self, desired_temperature):\n",
    "        self.desired_temperature = desired_temperature\n",
    "        self.heater_state = {}\n",
    "\n",
    "    def perceive(self, current_temperature):\n",
    "        return current_temperature\n",
    "\n",
    "    def update_state(self, room, action):\n",
    "        if action == \"Turn on heater\":\n",
    "            self.heater_state[room] = True\n",
    "        elif action == \"Turn off heater\":\n",
    "            self.heater_state[room] = False\n",
    "\n",
    "    def act(self, room, current_temperature):\n",
    "        heater_on = self.heater_state.get(room, False)\n",
    "        \n",
    "        if current_temperature < self.desired_temperature:\n",
    "            if not heater_on:\n",
    "                action = \"Turn on the heater\"\n",
    "            else:\n",
    "                action = \"Heater is already on\"\n",
    "        else:\n",
    "            if heater_on:\n",
    "                action = \"Turn off the heater\"\n",
    "            else:\n",
    "                action = \"Heater is already off\"\n",
    "        self.update_state(room, action)\n",
    "        return action\n",
    "\n",
    "rooms = {\n",
    "    \"Living Room\": 18,\n",
    "    \"Bedroom\": 22,\n",
    "    \"Kitchen\": 20,\n",
    "    \"Bathroom\": 24\n",
    "}\n",
    "\n",
    "desired_temperature = 22\n",
    "agent = ModelBasedReflexAgent(desired_temperature)\n",
    "\n",
    "for room, temperature in rooms.items():\n",
    "    action = agent.act(room, temperature)\n",
    "    print(f\"{room}: Current temperature is {temperature}°C => {action}.\")"
   ]
  }
 ],
 "metadata": {
  "kernelspec": {
   "display_name": "Model-2.0",
   "language": "python",
   "name": "python3"
  },
  "language_info": {
   "codemirror_mode": {
    "name": "ipython",
    "version": 3
   },
   "file_extension": ".py",
   "mimetype": "text/x-python",
   "name": "python",
   "nbconvert_exporter": "python",
   "pygments_lexer": "ipython3",
   "version": "3.12.4"
  }
 },
 "nbformat": 4,
 "nbformat_minor": 2
}
