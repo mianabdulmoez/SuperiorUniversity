{
 "cells": [
  {
   "cell_type": "code",
   "execution_count": null,
   "metadata": {},
   "outputs": [],
   "source": [
    "# Min Max Algorithm\n",
    "\n",
    "import math\n",
    "\n",
    "score = [1,2,3,4,5,6,7,8]\n",
    "TreeDepth = Math.log(len(score))\n",
    "\n",
    "def minmax(corelength, coreindex, isMax):\n",
    "    if corelength == TreeDepth:\n",
    "        return score[coreindex]\n",
    "    if isMax:\n",
    "        return max(minmax(corelength+1, coreindex*2, False), minmax(corelength+1, coreindex*2+1, False))\n",
    "    else:\n",
    "        return min(minmax(corelength+1, coreindex*2, True), minmax(corelength+1, coreindex*2+1, True))\n",
    "    \n",
    "print(minmax(0, 0, True))\n",
    "\n",
    "# Time Complexity: O(2^n)\n",
    "# Space Complexity: O(n)\n",
    "\n",
    "# Output: 8"
   ]
  }
 ],
 "metadata": {
  "kernelspec": {
   "display_name": "Model-2.0",
   "language": "python",
   "name": "python3"
  },
  "language_info": {
   "name": "python",
   "version": "3.12.4"
  }
 },
 "nbformat": 4,
 "nbformat_minor": 2
}
