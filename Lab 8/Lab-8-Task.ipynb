{
 "cells": [
  {
   "cell_type": "markdown",
   "metadata": {},
   "source": [
    "### Min Max Algorithm"
   ]
  },
  {
   "cell_type": "code",
   "execution_count": 5,
   "metadata": {},
   "outputs": [
    {
     "name": "stdout",
     "output_type": "stream",
     "text": [
      "6\n"
     ]
    }
   ],
   "source": [
    "import math\n",
    "\n",
    "score = [1, 2, 3, 4, 5, 6, 7, 8]\n",
    "TreeDepth = int(math.log(len(score), 2))\n",
    "\n",
    "def minmax(depth, index, isMax):\n",
    "    if depth == TreeDepth:\n",
    "        return score[index]\n",
    "    if isMax:\n",
    "        return max(minmax(depth + 1, index * 2, False), minmax(depth + 1, index * 2 + 1, False))\n",
    "    else:\n",
    "        return min(minmax(depth + 1, index * 2, True), minmax(depth + 1, index * 2 + 1, True))\n",
    "\n",
    "print(minmax(0, 0, True))\n"
   ]
  }
 ],
 "metadata": {
  "kernelspec": {
   "display_name": "Model-2.0",
   "language": "python",
   "name": "python3"
  },
  "language_info": {
   "codemirror_mode": {
    "name": "ipython",
    "version": 3
   },
   "file_extension": ".py",
   "mimetype": "text/x-python",
   "name": "python",
   "nbconvert_exporter": "python",
   "pygments_lexer": "ipython3",
   "version": "3.12.4"
  }
 },
 "nbformat": 4,
 "nbformat_minor": 2
}
