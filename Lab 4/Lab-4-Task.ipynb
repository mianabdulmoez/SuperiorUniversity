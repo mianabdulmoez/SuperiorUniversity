{
 "cells": [
  {
   "cell_type": "markdown",
   "metadata": {},
   "source": [
    "#### Task 1"
   ]
  },
  {
   "cell_type": "code",
   "execution_count": 3,
   "metadata": {},
   "outputs": [
    {
     "name": "stdout",
     "output_type": "stream",
     "text": [
      "Your Card is being processed!\n",
      "The card is valid!\n"
     ]
    }
   ],
   "source": [
    "# LUHN Algorithm\n",
    "limit = 16\n",
    "while True:\n",
    "    card_number = input(\"Please Enter Your Card Number: \").strip()\n",
    "    if card_number.isdigit() and len(card_number) == limit:\n",
    "        print(\"Your Card is being processed!\")\n",
    "        card_number = card_number[::-1]\n",
    "        total_sum = 0\n",
    "        for index, digit in enumerate(card_number):\n",
    "            digit = int(digit)\n",
    "            if index % 2 == 1:\n",
    "                digit *= 2\n",
    "                if digit > 9:\n",
    "                    digit -= 9\n",
    "            total_sum += digit\n",
    "        if total_sum % 10 == 0:\n",
    "            print(\"The card is valid!\")\n",
    "        else:\n",
    "            print(\"The card is invalid.\")\n",
    "        \n",
    "        break  \n",
    "    else:\n",
    "        print(\"Invalid Card! Please enter a 16-digit number.\")"
   ]
  },
  {
   "cell_type": "markdown",
   "metadata": {},
   "source": [
    "#### Task 2"
   ]
  },
  {
   "cell_type": "code",
   "execution_count": 1,
   "metadata": {},
   "outputs": [
    {
     "name": "stdout",
     "output_type": "stream",
     "text": [
      "String without punctuation: Google Certified Data Analyst  Data Scientist  Machine Learning  Artificial Intelligence\n"
     ]
    }
   ],
   "source": [
    "# Remove Punctuations from UserInput String (without using remove function)\n",
    "punctuation = \"!\\\"#$%&'()*+,-./:;<=>?@[\\\\]^_`{|}~\"\n",
    "\n",
    "user_string = input(\"Enter your paragraph to clean: \")\n",
    "\n",
    "def remove_punctuation(input_str):\n",
    "    result_chars = []\n",
    "    for char in input_str:\n",
    "        if char not in punctuation:\n",
    "            result_chars.append(char)\n",
    "\n",
    "    result_string = ''.join(result_chars)\n",
    "    return result_string\n",
    "\n",
    "clean_string = remove_punctuation(user_string)\n",
    "print(\"String without punctuation:\", clean_string)\n"
   ]
  },
  {
   "cell_type": "markdown",
   "metadata": {},
   "source": [
    "#### Task 3"
   ]
  },
  {
   "cell_type": "code",
   "execution_count": null,
   "metadata": {},
   "outputs": [],
   "source": [
    "# Sort text (word) in Alphabetical Order (without using sort function)\n",
    "\n"
   ]
  }
 ],
 "metadata": {
  "kernelspec": {
   "display_name": "Model-2.0",
   "language": "python",
   "name": "python3"
  },
  "language_info": {
   "codemirror_mode": {
    "name": "ipython",
    "version": 3
   },
   "file_extension": ".py",
   "mimetype": "text/x-python",
   "name": "python",
   "nbconvert_exporter": "python",
   "pygments_lexer": "ipython3",
   "version": "3.12.4"
  }
 },
 "nbformat": 4,
 "nbformat_minor": 2
}
