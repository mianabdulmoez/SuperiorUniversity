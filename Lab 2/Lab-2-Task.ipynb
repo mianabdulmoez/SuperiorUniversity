{
 "cells": [
  {
   "cell_type": "markdown",
   "metadata": {},
   "source": [
    "### Fizz Buzz"
   ]
  },
  {
   "cell_type": "code",
   "execution_count": 3,
   "metadata": {},
   "outputs": [
    {
     "name": "stdout",
     "output_type": "stream",
     "text": [
      "Fizz\n",
      "Fizz\n",
      "Buzz\n",
      "Buzz\n",
      "Fizz\n",
      "Fizz Buzz\n",
      "Fizz Buzz\n",
      "--Game Over--\n",
      "Game score: 7\n"
     ]
    }
   ],
   "source": [
    "# Fizz Buzz\n",
    "count = 0\n",
    "while True:\n",
    "    number = int(input(\"Enter Your Number: \"))\n",
    "    if number % 3 == 0 and number % 5 == 0:\n",
    "        print(\"Fizz Buzz\")\n",
    "    elif number % 3 == 0:\n",
    "        print(\"Fizz\")\n",
    "    elif number % 5 == 0:\n",
    "        print(\"Buzz\")\n",
    "    else:\n",
    "        print(\"--Game Over--\")\n",
    "        print(\"Game score:\", count)\n",
    "        break\n",
    "    count += 1"
   ]
  },
  {
   "cell_type": "markdown",
   "metadata": {},
   "source": [
    "### Movies Budget"
   ]
  },
  {
   "cell_type": "code",
   "execution_count": 7,
   "metadata": {},
   "outputs": [
    {
     "name": "stdout",
     "output_type": "stream",
     "text": [
      "abc with a budget of 900000000 has been added.\n",
      "The estimated average budget of movies is:279187500.0\n",
      "\n",
      "Pirates of the Caribbean: On Stranger Tides with the budget of 379000000 is the above average.\n",
      "Avengers: Age of Ultron with the budget of 365000000 is the above average.\n",
      "Avengers: Endgame with the budget of 356000000 is the above average.\n",
      "abc with the budget of 900000000 is the above average.\n",
      "Movies with a budget above than the average: 4\n"
     ]
    }
   ],
   "source": [
    "movies = [\n",
    "    (\"Eternal Sunshine of the Spotless Mind\", 20000000),\n",
    "    (\"Memento\", 9000000),\n",
    "    (\"Requiem for a Dream\", 4500000),\n",
    "    (\"Pirates of the Caribbean: On Stranger Tides\", 379000000),\n",
    "    (\"Avengers: Age of Ultron\", 365000000),\n",
    "    (\"Avengers: Endgame\", 356000000),\n",
    "    (\"Incredibles 2\", 200000000)\n",
    "]\n",
    "total_budget = 0\n",
    "while True:\n",
    "    add_movie = input(\"Would you like to add a movie with its budget? (yes/no): \").strip().lower()\n",
    "    \n",
    "    if add_movie == \"yes\":\n",
    "        movie_name = input(\"Enter the movie name: \")\n",
    "        movie_budget = int(input(\"Enter the movie budget: \"))\n",
    "        movies.append((movie_name, movie_budget))\n",
    "        print(f\"{movie_name} with a budget of {movie_budget} has been added.\")\n",
    "    elif add_movie == \"no\":\n",
    "        break\n",
    "    else:\n",
    "        print(\"Please enter 'yes' or 'no'.\")\n",
    "\n",
    "for budget in movies:\n",
    "    total_budget += budget[1] \n",
    "    \n",
    "average_budget = total_budget / len(movies)\n",
    "print(f\"The estimated average budget of movies is:{average_budget}\\n\")\n",
    "\n",
    "high_budget_movies = 0\n",
    "for budget in movies:\n",
    "    if budget[1] > average_budget:\n",
    "        print(f\"{budget[0]} with the budget of {budget[1]} is the above average.\")\n",
    "    if budget[1] > average_budget:\n",
    "        high_budget_movies += 1\n",
    "\n",
    "print(f\"Movies with a budget above than the average: {high_budget_movies}\")"
   ]
  }
 ],
 "metadata": {
  "kernelspec": {
   "display_name": "Project_env",
   "language": "python",
   "name": "python3"
  },
  "language_info": {
   "codemirror_mode": {
    "name": "ipython",
    "version": 3
   },
   "file_extension": ".py",
   "mimetype": "text/x-python",
   "name": "python",
   "nbconvert_exporter": "python",
   "pygments_lexer": "ipython3",
   "version": "3.12.3"
  }
 },
 "nbformat": 4,
 "nbformat_minor": 2
}
